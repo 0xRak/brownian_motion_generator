{
 "cells": [
  {
   "cell_type": "markdown",
   "id": "47413cf8",
   "metadata": {},
   "source": [
    "In our radCAD model, traders will initiate a long position at timestep 0 with `trade_leverage_ratio` degree of leverage. Each timestep, the open trade will incur interest rate charges on any borrowed funds to finance the trade (ie if leverage is >1), and track running profit/loss based on the simulated price changes we will generate from the brownian_motion_generator repo.\n",
    "\n",
    "This yields an expected Profit/Loss for each simulation, and we can compare expected results for different leverage ratios and borrowing costs. The benefit of using our simulated random walks is that we can run a Monte Carlo simulation on this simple trading system, to see what is likely to happen in a variety of cases.\n",
    "\n",
    "For example, a higher leverage ratio may be more profitable *on average* up to a point vs a lower leverage ratio, but it will also get liquidated more often. Thus, we can optimize for more complex outcomes than simply maximizing profit - we can optimize for profit relative to risk for example.\n",
    "\n",
    "This is especially relevant for protocol builders, which need to always consider what *may* happen and the relative risks, not just what is expected to happen *on average*. For example, USDT held its peg on the average day - but it's obviously meaningless to say a protocol \"works on average\" if it works 80% of the time but fatally explodes 20% of the time. In USDT's case, the system 's design had fatal flaws that analysts using techniques like Monte Carlo analysis identified were able to identify ahead of the crash. This doens't mean Monte Carlo can predict *when* a system will fail, but it can demonstrate if a failure is likely, and inevitable to eventually occur.\n",
    "\n",
    "This simple tutorial contains the building blocks for extending to simulating and modeling risks for any protocols making use of collateral and/or leverage such as Maker DAO, Aave, and more.\n"
   ]
  },
  {
   "cell_type": "code",
   "execution_count": 1,
   "id": "7b6ec2f3",
   "metadata": {},
   "outputs": [],
   "source": [
    "import requests\n",
    "import json\n",
    "import pandas as pd\n",
    "import numpy as np\n",
    "import brownian_motion_generator as bmg # Assumes brownian_motion_generator.py is in the currnent path directory\n",
    "\n",
    "from radcad import Model, Simulation, Experiment\n",
    "from radcad.engine import Engine, Backend"
   ]
  },
  {
   "cell_type": "code",
   "execution_count": 2,
   "id": "02900707",
   "metadata": {},
   "outputs": [
    {
     "data": {
      "text/html": [
       "<div>\n",
       "<style scoped>\n",
       "    .dataframe tbody tr th:only-of-type {\n",
       "        vertical-align: middle;\n",
       "    }\n",
       "\n",
       "    .dataframe tbody tr th {\n",
       "        vertical-align: top;\n",
       "    }\n",
       "\n",
       "    .dataframe thead th {\n",
       "        text-align: right;\n",
       "    }\n",
       "</style>\n",
       "<table border=\"1\" class=\"dataframe\">\n",
       "  <thead>\n",
       "    <tr style=\"text-align: right;\">\n",
       "      <th></th>\n",
       "      <th>unix</th>\n",
       "      <th>bitcoin_usd</th>\n",
       "    </tr>\n",
       "  </thead>\n",
       "  <tbody>\n",
       "    <tr>\n",
       "      <th>0</th>\n",
       "      <td>1549929600000</td>\n",
       "      <td>3631.444540</td>\n",
       "    </tr>\n",
       "    <tr>\n",
       "      <th>1</th>\n",
       "      <td>1550016000000</td>\n",
       "      <td>3633.965047</td>\n",
       "    </tr>\n",
       "    <tr>\n",
       "      <th>2</th>\n",
       "      <td>1550102400000</td>\n",
       "      <td>3610.062273</td>\n",
       "    </tr>\n",
       "    <tr>\n",
       "      <th>3</th>\n",
       "      <td>1550188800000</td>\n",
       "      <td>3589.661830</td>\n",
       "    </tr>\n",
       "    <tr>\n",
       "      <th>4</th>\n",
       "      <td>1550275200000</td>\n",
       "      <td>3601.229191</td>\n",
       "    </tr>\n",
       "    <tr>\n",
       "      <th>...</th>\n",
       "      <td>...</td>\n",
       "      <td>...</td>\n",
       "    </tr>\n",
       "    <tr>\n",
       "      <th>1456</th>\n",
       "      <td>1675728000000</td>\n",
       "      <td>22786.483006</td>\n",
       "    </tr>\n",
       "    <tr>\n",
       "      <th>1457</th>\n",
       "      <td>1675814400000</td>\n",
       "      <td>23294.913648</td>\n",
       "    </tr>\n",
       "    <tr>\n",
       "      <th>1458</th>\n",
       "      <td>1675900800000</td>\n",
       "      <td>22947.507829</td>\n",
       "    </tr>\n",
       "    <tr>\n",
       "      <th>1459</th>\n",
       "      <td>1675987200000</td>\n",
       "      <td>21820.886508</td>\n",
       "    </tr>\n",
       "    <tr>\n",
       "      <th>1460</th>\n",
       "      <td>1676034124000</td>\n",
       "      <td>21761.213535</td>\n",
       "    </tr>\n",
       "  </tbody>\n",
       "</table>\n",
       "<p>1461 rows × 2 columns</p>\n",
       "</div>"
      ],
      "text/plain": [
       "               unix   bitcoin_usd\n",
       "0     1549929600000   3631.444540\n",
       "1     1550016000000   3633.965047\n",
       "2     1550102400000   3610.062273\n",
       "3     1550188800000   3589.661830\n",
       "4     1550275200000   3601.229191\n",
       "...             ...           ...\n",
       "1456  1675728000000  22786.483006\n",
       "1457  1675814400000  23294.913648\n",
       "1458  1675900800000  22947.507829\n",
       "1459  1675987200000  21820.886508\n",
       "1460  1676034124000  21761.213535\n",
       "\n",
       "[1461 rows x 2 columns]"
      ]
     },
     "execution_count": 2,
     "metadata": {},
     "output_type": "execute_result"
    }
   ],
   "source": [
    "#Fetch market prices for raw data\n",
    "def coin_gecko_prices(coin, against='usd', days=1460):\n",
    "    url = f'https://api.coingecko.com/api/v3/coins/{coin}/market_chart?vs_currency={against}&days={days}'.format(coin,against,days) \n",
    "    r = requests.get(url)\n",
    "    df = pd.DataFrame(r.json()['prices'],columns=['unix',f'{coin}_{against}'])\n",
    "    return df\n",
    "\n",
    "df = coin_gecko_prices('bitcoin')\n",
    "latest_market_price = df.tail(1)['bitcoin_usd'].values[0]\n",
    "df\n"
   ]
  },
  {
   "cell_type": "code",
   "execution_count": 3,
   "id": "26881411",
   "metadata": {},
   "outputs": [
    {
     "name": "stderr",
     "output_type": "stream",
     "text": [
      "100%|██████████████████████████████████████████████████████████████████████████████████| 2/2 [00:00<00:00, 1972.40it/s]\n"
     ]
    },
    {
     "data": {
      "text/plain": [
       "(2, 3, 1)"
      ]
     },
     "execution_count": 3,
     "metadata": {},
     "output_type": "execute_result"
    }
   ],
   "source": [
    "#Generate random walks of prices\n",
    "\n",
    "TIMESTEPS = 3\n",
    "RUNS = 2\n",
    "\n",
    "#Series should be mean stationary. So in this case of price series, convert them to log normal returns\n",
    "df['btc_ln_return'] = np.log(df['bitcoin_usd'] / df['bitcoin_usd'].shift(1))\n",
    "df = df.dropna(how='any')\n",
    "\n",
    "#Approximate the distribution parameters of each series\n",
    "#Here we will use a custom distribution for each: other options include 'normal' or 'laplace'\n",
    "OU_params_btc = bmg.estimate_OU_params(df['btc_ln_return'].values, distribution_type='custom')\n",
    "\n",
    "OU_params = (\n",
    "    OU_params_btc,\n",
    ")\n",
    "\n",
    "correlations = df[\n",
    "    ['btc_ln_return',\n",
    "    ]\n",
    "].corr().values[0]\n",
    "\n",
    "OU_procs = bmg.simulate_corr_OU_procs(TIMESTEPS, OU_params, RUNS, rho=correlations)\n",
    "OU_procs.shape\n"
   ]
  },
  {
   "cell_type": "code",
   "execution_count": 4,
   "id": "187f1cde",
   "metadata": {},
   "outputs": [
    {
     "data": {
      "text/plain": [
       "{(1, 1): {'btc_ln_return': 0.0012268365189861887},\n",
       " (1, 2): {'btc_ln_return': 0.007080742183728739},\n",
       " (1, 3): {'btc_ln_return': 0.006321716774943731},\n",
       " (2, 1): {'btc_ln_return': 0.0012268365189861887},\n",
       " (2, 2): {'btc_ln_return': 0.0068902324041814796},\n",
       " (2, 3): {'btc_ln_return': 0.0017360820613373704}}"
      ]
     },
     "execution_count": 4,
     "metadata": {},
     "output_type": "execute_result"
    }
   ],
   "source": [
    "#Turn the numpy array into a dataframe\n",
    "runs,timesteps,procs = OU_procs.shape\n",
    "OU_procs_arr = np.column_stack((np.repeat(np.arange(runs),timesteps),OU_procs.reshape(runs*timesteps,-1)))\n",
    "walks = pd.DataFrame(OU_procs_arr,\n",
    "                     columns=[\n",
    "                         'run',\n",
    "                         'btc_ln_return',\n",
    "                     ])\n",
    "\n",
    "walks['run'] = walks['run'].astype('int') + 1\n",
    "walks['timestep'] = walks.groupby('run').cumcount() + 1\n",
    "\n",
    "#Then turn this into a dictionary with keys of (run,timestep) to easily query the simulated return at a given run,timestep\n",
    "walks = walks.set_index(['run','timestep']).to_dict('index')\n",
    "walks\n"
   ]
  },
  {
   "cell_type": "markdown",
   "id": "c66260a8",
   "metadata": {},
   "source": [
    "Now it's time to setup our radCAD model, which will use the `walks` variable set above as the source of stochastic randomness for price movements.\n"
   ]
  },
  {
   "cell_type": "code",
   "execution_count": 122,
   "id": "3d66f6ce",
   "metadata": {},
   "outputs": [],
   "source": [
    "system_params = {\n",
    "    'trade_leverage_ratio': [2], #1 means no leverage. A floor is set in policy functions so 1 is smallest possible value\n",
    "    'risk_level_liquidation': [1.1], #liquidated if Total Assets / (Borrowed Value + Accrued Interest) is < this\n",
    "    'daily_borrowing_rate': [0.0002], #in APR. ie 0.0002 is equal to 0.02% per day, or 7.3% per year (0.02% * 365)\n",
    "}\n",
    "\n",
    "initial_state = {\n",
    "    'asset_price': latest_market_price,\n",
    "    'running_pnL': 0, #tracks cumulative profit and loss on the position\n",
    "    'usd_borrowed': 0,\n",
    "    'accrued_interest': 0,\n",
    "\n",
    "}\n"
   ]
  },
  {
   "cell_type": "code",
   "execution_count": 123,
   "id": "8d89a2bd",
   "metadata": {},
   "outputs": [],
   "source": [
    "def p_borrow_usd(params, substep, state_history, prev_state, **kwargs):\n",
    "    borrow_usd = initial_state['asset_price'] * (max(1,params['trade_leverage_ratio']) - 1)\n",
    "    return {'borrow_usd': borrow_usd}\n",
    "\n",
    "def s_usd_borrowed(params, substep, state_history, prev_state, policy_input, **kwargs):\n",
    "    return ('usd_borrowed', policy_input['borrow_usd'])\n",
    "\n",
    "\n",
    "def p_accrue_interest(params, substep, state_history, prev_state, **kwargs):\n",
    "    accrue_interest = prev_state['usd_borrowed'] * params['daily_borrowing_rate']\n",
    "    return {'accrue_interest': accrue_interest}\n",
    "\n",
    "def s_accrued_interest(params, substep, state_history, prev_state, policy_input, **kwargs):\n",
    "    updated_accrued_interest = prev_state['accrued_interest'] + policy_input['accrue_interest']\n",
    "    return ('accrued_interest', updated_accrued_interest)\n",
    "\n",
    "\n",
    "def p_update_price(params, substep, state_history, prev_state, **kwargs):\n",
    "    run = prev_state['run']\n",
    "    timestep = prev_state['timestep']\n",
    "    pct_price_change = np.exp(walks[(run, timestep)]['btc_ln_return'])\n",
    "    return {'pct_price_change': pct_price_change}\n",
    "\n",
    "def s_asset_price(params, substep, state_history, prev_state, policy_input, **kwargs):\n",
    "    updated_asset_price = prev_state['asset_price'] * policy_input['pct_price_change']\n",
    "    return ('asset_price', updated_asset_price)\n",
    "\n",
    "\n",
    "def p_update_running_pnL(params, substep, state_history, prev_state, **kwargs):\n",
    "    unleveraged_pnL = prev_state['asset_price'] - initial_state['asset_price']\n",
    "    leveraged_pnL = unleveraged_pnL * max(1,params['trade_leverage_ratio'])\n",
    "    print('LEVERAGED: ', leveraged_pnL, type(leveraged_pnL))\n",
    "    return {'leveraged_pnL': leveraged_pnL}\n",
    "\n",
    "def s_running_pnL(params, substep, state_history, prev_state, policy_input, **kwargs):\n",
    "    running_pnL = policy_input['leveraged_pnL']\n",
    "    print('RUNNING: ', running_pnL, type(running_pnL))\n",
    "    return {'running_pnL', running_pnL}\n",
    "\n",
    "# Next substep\n",
    "#Update profit/loss (if prev state liquidated use prev state profit loss)\n",
    "#Check if liquidated\n",
    "    "
   ]
  },
  {
   "cell_type": "code",
   "execution_count": 124,
   "id": "1801fa23",
   "metadata": {},
   "outputs": [],
   "source": [
    "state_update_blocks = [\n",
    "    {\n",
    "        'policies': {\n",
    "            'borrow_funds': p_borrow_usd,\n",
    "        },\n",
    "        'variables': {\n",
    "            'usd_borrowed': s_usd_borrowed,\n",
    "        }\n",
    "    },\n",
    "    {\n",
    "        'policies': {\n",
    "            'accrue_interest': p_accrue_interest,\n",
    "            'update_price': p_update_price,\n",
    "        },\n",
    "        'variables': {\n",
    "            'accrued_interest': s_accrued_interest,\n",
    "            'asset_price': s_asset_price,\n",
    "        }\n",
    "    },\n",
    "    {\n",
    "        'policies': {\n",
    "            'update_pnL': p_update_running_pnL,\n",
    "        },\n",
    "        'variables': {\n",
    "            'running_pnL': s_running_pnL,\n",
    "        }\n",
    "    },\n",
    "]"
   ]
  },
  {
   "cell_type": "code",
   "execution_count": 125,
   "id": "34073eec",
   "metadata": {},
   "outputs": [
    {
     "ename": "KeyError",
     "evalue": "'Invalid state key running_pnL returned from state update function'",
     "output_type": "error",
     "traceback": [
      "\u001b[1;31m---------------------------------------------------------------------------\u001b[0m",
      "\u001b[1;31mRemoteTraceback\u001b[0m                           Traceback (most recent call last)",
      "\u001b[1;31mRemoteTraceback\u001b[0m: \n\"\"\"\nTraceback (most recent call last):\n  File \"C:\\Users\\matto\\AppData\\Roaming\\Python\\Python39\\site-packages\\multiprocess\\pool.py\", line 125, in worker\n    result = (True, func(*args, **kwds))\n  File \"C:\\Users\\matto\\AppData\\Roaming\\Python\\Python39\\site-packages\\multiprocess\\pool.py\", line 48, in mapstar\n    return list(map(*args))\n  File \"C:\\Users\\matto\\AppData\\Roaming\\Python\\Python39\\site-packages\\pathos\\helpers\\mp_helper.py\", line 15, in <lambda>\n    func = lambda args: f(*args)\n  File \"C:\\Users\\matto\\AppData\\Roaming\\Python\\Python39\\site-packages\\radcad\\core.py\", line 179, in _single_run_wrapper\n    raise e\n  File \"C:\\Users\\matto\\AppData\\Roaming\\Python\\Python39\\site-packages\\radcad\\core.py\", line 165, in _single_run_wrapper\n    raise exception\n  File \"C:\\Users\\matto\\AppData\\Roaming\\Python\\Python39\\site-packages\\radcad\\core.py\", line 135, in single_run\n    _single_run(\n  File \"C:\\Users\\matto\\AppData\\Roaming\\Python\\Python39\\site-packages\\radcad\\core.py\", line 109, in _single_run\n    substate.update(updated_state)\n  File \"C:\\Users\\matto\\AppData\\Roaming\\Python\\Python39\\site-packages\\radcad\\core.py\", line 40, in _update_state\n    raise KeyError(\nKeyError: 'Invalid state key running_pnL returned from state update function'\n\"\"\"",
      "\nThe above exception was the direct cause of the following exception:\n",
      "\u001b[1;31mKeyError\u001b[0m                                  Traceback (most recent call last)",
      "\u001b[1;32m~\\AppData\\Local\\Temp\\ipykernel_2460\\2859086644.py\u001b[0m in \u001b[0;36m<module>\u001b[1;34m\u001b[0m\n\u001b[0;32m      6\u001b[0m \u001b[0mexperiment\u001b[0m\u001b[1;33m.\u001b[0m\u001b[0mengine\u001b[0m \u001b[1;33m=\u001b[0m \u001b[0mEngine\u001b[0m\u001b[1;33m(\u001b[0m\u001b[1;33m)\u001b[0m\u001b[1;31m#backend=Backend.PATHOS)\u001b[0m\u001b[1;33m\u001b[0m\u001b[1;33m\u001b[0m\u001b[0m\n\u001b[0;32m      7\u001b[0m \u001b[1;33m\u001b[0m\u001b[0m\n\u001b[1;32m----> 8\u001b[1;33m \u001b[0mresult\u001b[0m \u001b[1;33m=\u001b[0m \u001b[0mexperiment\u001b[0m\u001b[1;33m.\u001b[0m\u001b[0mrun\u001b[0m\u001b[1;33m(\u001b[0m\u001b[1;33m)\u001b[0m\u001b[1;33m\u001b[0m\u001b[1;33m\u001b[0m\u001b[0m\n\u001b[0m\u001b[0;32m      9\u001b[0m \u001b[0mdf\u001b[0m \u001b[1;33m=\u001b[0m \u001b[0mpd\u001b[0m\u001b[1;33m.\u001b[0m\u001b[0mDataFrame\u001b[0m\u001b[1;33m(\u001b[0m\u001b[0mresult\u001b[0m\u001b[1;33m)\u001b[0m\u001b[1;33m\u001b[0m\u001b[1;33m\u001b[0m\u001b[0m\n\u001b[0;32m     10\u001b[0m \u001b[1;31m# df = df[(df['substep'] == len(state_update_blocks)) | (df['timestep'] == 0)]\u001b[0m\u001b[1;33m\u001b[0m\u001b[1;33m\u001b[0m\u001b[0m\n",
      "\u001b[1;32m~\\AppData\\Roaming\\Python\\Python39\\site-packages\\radcad\\wrappers.py\u001b[0m in \u001b[0;36mrun\u001b[1;34m(self)\u001b[0m\n\u001b[0;32m    185\u001b[0m \u001b[1;33m\u001b[0m\u001b[0m\n\u001b[0;32m    186\u001b[0m     \u001b[1;32mdef\u001b[0m \u001b[0mrun\u001b[0m\u001b[1;33m(\u001b[0m\u001b[0mself\u001b[0m\u001b[1;33m)\u001b[0m\u001b[1;33m:\u001b[0m\u001b[1;33m\u001b[0m\u001b[1;33m\u001b[0m\u001b[0m\n\u001b[1;32m--> 187\u001b[1;33m         \u001b[1;32mreturn\u001b[0m \u001b[0mself\u001b[0m\u001b[1;33m.\u001b[0m\u001b[0mengine\u001b[0m\u001b[1;33m.\u001b[0m\u001b[0m_run\u001b[0m\u001b[1;33m(\u001b[0m\u001b[0mexecutable\u001b[0m\u001b[1;33m=\u001b[0m\u001b[0mself\u001b[0m\u001b[1;33m)\u001b[0m\u001b[1;33m\u001b[0m\u001b[1;33m\u001b[0m\u001b[0m\n\u001b[0m\u001b[0;32m    188\u001b[0m \u001b[1;33m\u001b[0m\u001b[0m\n\u001b[0;32m    189\u001b[0m     \u001b[1;32mdef\u001b[0m \u001b[0madd_simulations\u001b[0m\u001b[1;33m(\u001b[0m\u001b[0mself\u001b[0m\u001b[1;33m,\u001b[0m \u001b[0msimulations\u001b[0m\u001b[1;33m)\u001b[0m\u001b[1;33m:\u001b[0m\u001b[1;33m\u001b[0m\u001b[1;33m\u001b[0m\u001b[0m\n",
      "\u001b[1;32m~\\AppData\\Roaming\\Python\\Python39\\site-packages\\radcad\\engine.py\u001b[0m in \u001b[0;36m_run\u001b[1;34m(self, executable, **kwargs)\u001b[0m\n\u001b[0;32m     80\u001b[0m             \u001b[1;32mraise\u001b[0m \u001b[0mException\u001b[0m\u001b[1;33m(\u001b[0m\u001b[1;34mf\"Execution backend must be one of {Backend._member_names_}, not {self.backend}\"\u001b[0m\u001b[1;33m)\u001b[0m\u001b[1;33m\u001b[0m\u001b[1;33m\u001b[0m\u001b[0m\n\u001b[0;32m     81\u001b[0m \u001b[1;33m\u001b[0m\u001b[0m\n\u001b[1;32m---> 82\u001b[1;33m         \u001b[0mresult\u001b[0m \u001b[1;33m=\u001b[0m \u001b[0mExecutor\u001b[0m\u001b[1;33m(\u001b[0m\u001b[0mself\u001b[0m\u001b[1;33m)\u001b[0m\u001b[1;33m.\u001b[0m\u001b[0mexecute_runs\u001b[0m\u001b[1;33m(\u001b[0m\u001b[1;33m)\u001b[0m\u001b[1;33m\u001b[0m\u001b[1;33m\u001b[0m\u001b[0m\n\u001b[0m\u001b[0;32m     83\u001b[0m \u001b[1;33m\u001b[0m\u001b[0m\n\u001b[0;32m     84\u001b[0m         \u001b[0mself\u001b[0m\u001b[1;33m.\u001b[0m\u001b[0mexecutable\u001b[0m\u001b[1;33m.\u001b[0m\u001b[0mresults\u001b[0m\u001b[1;33m,\u001b[0m \u001b[0mself\u001b[0m\u001b[1;33m.\u001b[0m\u001b[0mexecutable\u001b[0m\u001b[1;33m.\u001b[0m\u001b[0mexceptions\u001b[0m \u001b[1;33m=\u001b[0m \u001b[0mextract_exceptions\u001b[0m\u001b[1;33m(\u001b[0m\u001b[0mresult\u001b[0m\u001b[1;33m)\u001b[0m\u001b[1;33m\u001b[0m\u001b[1;33m\u001b[0m\u001b[0m\n",
      "\u001b[1;32m~\\AppData\\Roaming\\Python\\Python39\\site-packages\\radcad\\backends\\pathos.py\u001b[0m in \u001b[0;36mexecute_runs\u001b[1;34m(self)\u001b[0m\n\u001b[0;32m     19\u001b[0m     \u001b[1;32mdef\u001b[0m \u001b[0mexecute_runs\u001b[0m\u001b[1;33m(\u001b[0m\u001b[0mself\u001b[0m\u001b[1;33m)\u001b[0m\u001b[1;33m:\u001b[0m\u001b[1;33m\u001b[0m\u001b[1;33m\u001b[0m\u001b[0m\n\u001b[0;32m     20\u001b[0m         \u001b[1;32mwith\u001b[0m \u001b[0mProcessPool\u001b[0m\u001b[1;33m(\u001b[0m\u001b[0mself\u001b[0m\u001b[1;33m.\u001b[0m\u001b[0mengine\u001b[0m\u001b[1;33m.\u001b[0m\u001b[0mprocesses\u001b[0m\u001b[1;33m)\u001b[0m \u001b[1;32mas\u001b[0m \u001b[0mpool\u001b[0m\u001b[1;33m:\u001b[0m\u001b[1;33m\u001b[0m\u001b[1;33m\u001b[0m\u001b[0m\n\u001b[1;32m---> 21\u001b[1;33m             result = pool.map(\n\u001b[0m\u001b[0;32m     22\u001b[0m                 \u001b[0mcore\u001b[0m\u001b[1;33m.\u001b[0m\u001b[0m_single_run_wrapper\u001b[0m\u001b[1;33m,\u001b[0m\u001b[1;33m\u001b[0m\u001b[1;33m\u001b[0m\u001b[0m\n\u001b[0;32m     23\u001b[0m                 [\n",
      "\u001b[1;32m~\\AppData\\Roaming\\Python\\Python39\\site-packages\\pathos\\multiprocessing.py\u001b[0m in \u001b[0;36mmap\u001b[1;34m(self, f, *args, **kwds)\u001b[0m\n\u001b[0;32m    137\u001b[0m         \u001b[0mAbstractWorkerPool\u001b[0m\u001b[1;33m.\u001b[0m\u001b[0m_AbstractWorkerPool__map\u001b[0m\u001b[1;33m(\u001b[0m\u001b[0mself\u001b[0m\u001b[1;33m,\u001b[0m \u001b[0mf\u001b[0m\u001b[1;33m,\u001b[0m \u001b[1;33m*\u001b[0m\u001b[0margs\u001b[0m\u001b[1;33m,\u001b[0m \u001b[1;33m**\u001b[0m\u001b[0mkwds\u001b[0m\u001b[1;33m)\u001b[0m\u001b[1;33m\u001b[0m\u001b[1;33m\u001b[0m\u001b[0m\n\u001b[0;32m    138\u001b[0m         \u001b[0m_pool\u001b[0m \u001b[1;33m=\u001b[0m \u001b[0mself\u001b[0m\u001b[1;33m.\u001b[0m\u001b[0m_serve\u001b[0m\u001b[1;33m(\u001b[0m\u001b[1;33m)\u001b[0m\u001b[1;33m\u001b[0m\u001b[1;33m\u001b[0m\u001b[0m\n\u001b[1;32m--> 139\u001b[1;33m         \u001b[1;32mreturn\u001b[0m \u001b[0m_pool\u001b[0m\u001b[1;33m.\u001b[0m\u001b[0mmap\u001b[0m\u001b[1;33m(\u001b[0m\u001b[0mstar\u001b[0m\u001b[1;33m(\u001b[0m\u001b[0mf\u001b[0m\u001b[1;33m)\u001b[0m\u001b[1;33m,\u001b[0m \u001b[0mzip\u001b[0m\u001b[1;33m(\u001b[0m\u001b[1;33m*\u001b[0m\u001b[0margs\u001b[0m\u001b[1;33m)\u001b[0m\u001b[1;33m)\u001b[0m \u001b[1;31m# chunksize\u001b[0m\u001b[1;33m\u001b[0m\u001b[1;33m\u001b[0m\u001b[0m\n\u001b[0m\u001b[0;32m    140\u001b[0m     \u001b[0mmap\u001b[0m\u001b[1;33m.\u001b[0m\u001b[0m__doc__\u001b[0m \u001b[1;33m=\u001b[0m \u001b[0mAbstractWorkerPool\u001b[0m\u001b[1;33m.\u001b[0m\u001b[0mmap\u001b[0m\u001b[1;33m.\u001b[0m\u001b[0m__doc__\u001b[0m\u001b[1;33m\u001b[0m\u001b[1;33m\u001b[0m\u001b[0m\n\u001b[0;32m    141\u001b[0m     \u001b[1;32mdef\u001b[0m \u001b[0mimap\u001b[0m\u001b[1;33m(\u001b[0m\u001b[0mself\u001b[0m\u001b[1;33m,\u001b[0m \u001b[0mf\u001b[0m\u001b[1;33m,\u001b[0m \u001b[1;33m*\u001b[0m\u001b[0margs\u001b[0m\u001b[1;33m,\u001b[0m \u001b[1;33m**\u001b[0m\u001b[0mkwds\u001b[0m\u001b[1;33m)\u001b[0m\u001b[1;33m:\u001b[0m\u001b[1;33m\u001b[0m\u001b[1;33m\u001b[0m\u001b[0m\n",
      "\u001b[1;32m~\\AppData\\Roaming\\Python\\Python39\\site-packages\\multiprocess\\pool.py\u001b[0m in \u001b[0;36mmap\u001b[1;34m(self, func, iterable, chunksize)\u001b[0m\n\u001b[0;32m    362\u001b[0m         \u001b[1;32min\u001b[0m \u001b[0ma\u001b[0m \u001b[0mlist\u001b[0m \u001b[0mthat\u001b[0m \u001b[1;32mis\u001b[0m \u001b[0mreturned\u001b[0m\u001b[1;33m.\u001b[0m\u001b[1;33m\u001b[0m\u001b[1;33m\u001b[0m\u001b[0m\n\u001b[0;32m    363\u001b[0m         '''\n\u001b[1;32m--> 364\u001b[1;33m         \u001b[1;32mreturn\u001b[0m \u001b[0mself\u001b[0m\u001b[1;33m.\u001b[0m\u001b[0m_map_async\u001b[0m\u001b[1;33m(\u001b[0m\u001b[0mfunc\u001b[0m\u001b[1;33m,\u001b[0m \u001b[0miterable\u001b[0m\u001b[1;33m,\u001b[0m \u001b[0mmapstar\u001b[0m\u001b[1;33m,\u001b[0m \u001b[0mchunksize\u001b[0m\u001b[1;33m)\u001b[0m\u001b[1;33m.\u001b[0m\u001b[0mget\u001b[0m\u001b[1;33m(\u001b[0m\u001b[1;33m)\u001b[0m\u001b[1;33m\u001b[0m\u001b[1;33m\u001b[0m\u001b[0m\n\u001b[0m\u001b[0;32m    365\u001b[0m \u001b[1;33m\u001b[0m\u001b[0m\n\u001b[0;32m    366\u001b[0m     \u001b[1;32mdef\u001b[0m \u001b[0mstarmap\u001b[0m\u001b[1;33m(\u001b[0m\u001b[0mself\u001b[0m\u001b[1;33m,\u001b[0m \u001b[0mfunc\u001b[0m\u001b[1;33m,\u001b[0m \u001b[0miterable\u001b[0m\u001b[1;33m,\u001b[0m \u001b[0mchunksize\u001b[0m\u001b[1;33m=\u001b[0m\u001b[1;32mNone\u001b[0m\u001b[1;33m)\u001b[0m\u001b[1;33m:\u001b[0m\u001b[1;33m\u001b[0m\u001b[1;33m\u001b[0m\u001b[0m\n",
      "\u001b[1;32m~\\AppData\\Roaming\\Python\\Python39\\site-packages\\multiprocess\\pool.py\u001b[0m in \u001b[0;36mget\u001b[1;34m(self, timeout)\u001b[0m\n\u001b[0;32m    769\u001b[0m             \u001b[1;32mreturn\u001b[0m \u001b[0mself\u001b[0m\u001b[1;33m.\u001b[0m\u001b[0m_value\u001b[0m\u001b[1;33m\u001b[0m\u001b[1;33m\u001b[0m\u001b[0m\n\u001b[0;32m    770\u001b[0m         \u001b[1;32melse\u001b[0m\u001b[1;33m:\u001b[0m\u001b[1;33m\u001b[0m\u001b[1;33m\u001b[0m\u001b[0m\n\u001b[1;32m--> 771\u001b[1;33m             \u001b[1;32mraise\u001b[0m \u001b[0mself\u001b[0m\u001b[1;33m.\u001b[0m\u001b[0m_value\u001b[0m\u001b[1;33m\u001b[0m\u001b[1;33m\u001b[0m\u001b[0m\n\u001b[0m\u001b[0;32m    772\u001b[0m \u001b[1;33m\u001b[0m\u001b[0m\n\u001b[0;32m    773\u001b[0m     \u001b[1;32mdef\u001b[0m \u001b[0m_set\u001b[0m\u001b[1;33m(\u001b[0m\u001b[0mself\u001b[0m\u001b[1;33m,\u001b[0m \u001b[0mi\u001b[0m\u001b[1;33m,\u001b[0m \u001b[0mobj\u001b[0m\u001b[1;33m)\u001b[0m\u001b[1;33m:\u001b[0m\u001b[1;33m\u001b[0m\u001b[1;33m\u001b[0m\u001b[0m\n",
      "\u001b[1;31mKeyError\u001b[0m: 'Invalid state key running_pnL returned from state update function'"
     ]
    }
   ],
   "source": [
    "model = Model(initial_state=initial_state, state_update_blocks=state_update_blocks, params=system_params)\n",
    "simulation = Simulation(model=model, timesteps=TIMESTEPS, runs=RUNS)\n",
    "experiment = Experiment(simulation)\n",
    "\n",
    "# Select the Pathos backend to avoid issues with multiprocessing and Jupyter Notebooks\n",
    "experiment.engine = Engine()#backend=Backend.PATHOS)\n",
    "\n",
    "result = experiment.run()\n",
    "df = pd.DataFrame(result)\n",
    "# df = df[(df['substep'] == len(state_update_blocks)) | (df['timestep'] == 0)]\n",
    "df"
   ]
  },
  {
   "cell_type": "code",
   "execution_count": null,
   "id": "6ae45077",
   "metadata": {},
   "outputs": [],
   "source": []
  }
 ],
 "metadata": {
  "kernelspec": {
   "display_name": "Python 3 (ipykernel)",
   "language": "python",
   "name": "python3"
  },
  "language_info": {
   "codemirror_mode": {
    "name": "ipython",
    "version": 3
   },
   "file_extension": ".py",
   "mimetype": "text/x-python",
   "name": "python",
   "nbconvert_exporter": "python",
   "pygments_lexer": "ipython3",
   "version": "3.9.13"
  }
 },
 "nbformat": 4,
 "nbformat_minor": 5
}
